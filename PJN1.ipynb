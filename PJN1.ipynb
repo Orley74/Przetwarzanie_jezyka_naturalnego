{
  "nbformat": 4,
  "nbformat_minor": 0,
  "metadata": {
    "colab": {
      "provenance": [],
      "authorship_tag": "ABX9TyMyKA7BRhDfF7QSdtqIXkoy",
      "include_colab_link": true
    },
    "kernelspec": {
      "name": "python3",
      "display_name": "Python 3"
    },
    "language_info": {
      "name": "python"
    }
  },
  "cells": [
    {
      "cell_type": "markdown",
      "metadata": {
        "id": "view-in-github",
        "colab_type": "text"
      },
      "source": [
        "<a href=\"https://colab.research.google.com/github/Orley74/Przetwarzanie_jezyka_naturalnego/blob/master/PJN1.ipynb\" target=\"_parent\"><img src=\"https://colab.research.google.com/assets/colab-badge.svg\" alt=\"Open In Colab\"/></a>"
      ]
    },
    {
      "cell_type": "markdown",
      "source": [
        "1. Pobranie tekstow z wolne lektury"
      ],
      "metadata": {
        "id": "OGc1seZB_-uD"
      }
    },
    {
      "cell_type": "code",
      "execution_count": null,
      "metadata": {
        "id": "Dc2UM692_UPJ"
      },
      "outputs": [],
      "source": [
        "urls = ['https://wolnelektury.pl/media/book/txt/bulhakow-fatalne-jaja.txt',\n",
        "        'https://wolnelektury.pl/media/book/txt/coolidge-co-kasia-robila.txt',\n",
        "        'https://wolnelektury.pl/media/book/txt/alcott-male-kobietki.txt',\n",
        "        'https://wolnelektury.pl/media/book/txt/bertrand-jedna-jeszcze-wiosna.txt',\n",
        "        'https://wolnelektury.pl/media/book/txt/don-kichot-z-la-manchy.txt',\n",
        "        'https://wolnelektury.pl/media/book/txt/bertrand-jedna-jeszcze-wiosna.txt',\n",
        "        'https://wolnelektury.pl/media/book/txt/ajschylos-oresteja.txt',\n",
        "        'https://wolnelektury.pl/media/book/txt/amicis-serce.txt',\n",
        "        'https://wolnelektury.pl/media/book/txt/andrzejewski-ciemnosci-kryja-ziemie.txt',\n",
        "        'https://wolnelektury.pl/media/book/txt/uwagi-z-powodu-listu-polaka-do-ministra-rosyjskiego.txt'\n",
        "        ]"
      ]
    },
    {
      "cell_type": "markdown",
      "source": [
        "Pobranie tekstow"
      ],
      "metadata": {
        "id": "vZ-tkF1YpfsI"
      }
    },
    {
      "cell_type": "code",
      "source": [
        "import requests\n",
        "corp = []\n",
        "\n",
        "corp = [requests.get(url).text for url in urls]"
      ],
      "metadata": {
        "id": "sBX3I5DCC8vw"
      },
      "execution_count": null,
      "outputs": []
    },
    {
      "cell_type": "code",
      "source": [
        "corp"
      ],
      "metadata": {
        "id": "0JBci2NeDNwq"
      },
      "execution_count": null,
      "outputs": []
    },
    {
      "cell_type": "markdown",
      "source": [
        "Wykreslenie numerow"
      ],
      "metadata": {
        "id": "rhardzcVJhYw"
      }
    },
    {
      "cell_type": "code",
      "source": [
        "import re\n",
        "def preprocess_text(text):\n",
        "    text = text.lower()\n",
        "    text = re.sub(r'\\d+', '', text)\n",
        "    return text\n",
        "\n",
        "r = requests.get('https://github.com/bieli/stopwords/blob/master/polish.stopwords.txt')\n",
        "stopwords = r.json()['payload']['blob']['rawLines']"
      ],
      "metadata": {
        "id": "mjemeQjzIvoA"
      },
      "execution_count": null,
      "outputs": []
    },
    {
      "cell_type": "code",
      "source": [
        "from sklearn.feature_extraction.text import CountVectorizer\n",
        "vectorizer = CountVectorizer(preprocessor=preprocess_text,stop_words=stopwords)\n",
        "X = vectorizer.fit_transform(corp)"
      ],
      "metadata": {
        "id": "sz2YcPB1EMfR"
      },
      "execution_count": null,
      "outputs": []
    },
    {
      "cell_type": "markdown",
      "source": [
        "zmienna document okresla dla jakiego dokumentu ma byc wykres TF\n"
      ],
      "metadata": {
        "id": "yP_MhM2ENdCP"
      }
    },
    {
      "cell_type": "code",
      "source": [
        "document = 0"
      ],
      "metadata": {
        "id": "u75V6Nd2pnyQ"
      },
      "execution_count": null,
      "outputs": []
    },
    {
      "cell_type": "code",
      "source": [
        "first = X[document].toarray()[0]\n"
      ],
      "metadata": {
        "id": "EhvQsIDvKsmo"
      },
      "execution_count": null,
      "outputs": []
    },
    {
      "cell_type": "code",
      "source": [
        "from nltk.probability import FreqDist\n",
        "import matplotlib.pyplot as plt"
      ],
      "metadata": {
        "id": "60f2-c-eS9nW"
      },
      "execution_count": null,
      "outputs": []
    },
    {
      "cell_type": "code",
      "source": [
        "freq = FreqDist(first)\n",
        "data = sorted(freq.items(), key=lambda x: x[1], reverse=True)\n",
        "data.pop(0)\n",
        "\n",
        "plt.figure(figsize=(10, 5))\n",
        "plt.bar(range(len(data[:20])), [val[1] for val in data[:20]], align='center')\n",
        "plt.title('Częstość występowania tokenów zbudowanych wyłącznie z liter')\n",
        "plt.xlabel('Tokeny')\n",
        "plt.ylabel('Częstość')\n",
        "plt.show()"
      ],
      "metadata": {
        "colab": {
          "base_uri": "https://localhost:8080/",
          "height": 488
        },
        "id": "tOpjzENyS88G",
        "outputId": "1da389b8-e91f-492c-c92d-56ccfaefb94f"
      },
      "execution_count": null,
      "outputs": [
        {
          "output_type": "display_data",
          "data": {
            "text/plain": [
              "<Figure size 1000x500 with 1 Axes>"
            ],
            "image/png": "[encoded data removed]"
          },
          "metadata": {}
        }
      ]
    },
    {
      "cell_type": "markdown",
      "source": [],
      "metadata": {
        "id": "LNTbkrDmqUFI"
      }
    },
    {
      "cell_type": "markdown",
      "source": [
        "Macierz TFIDF"
      ],
      "metadata": {
        "id": "a78PYO4rqE-g"
      }
    },
    {
      "cell_type": "code",
      "source": [
        "from sklearn.feature_extraction.text import TfidfVectorizer\n",
        "vectorizer2 = TfidfVectorizer(preprocessor=preprocess_text, stop_words=stopwords)\n",
        "\n",
        "\n",
        "TFIDF = vectorizer2.fit_transform(corp)\n",
        "\n",
        "\n",
        "feature_names = vectorizer2.get_feature_names_out()\n",
        "print(feature_names)\n",
        "\n",
        "TFIDF = TFIDF.toarray()\n",
        "print(TFIDF)"
      ],
      "metadata": {
        "colab": {
          "base_uri": "https://localhost:8080/"
        },
        "id": "g-W3O7ILTvGz",
        "outputId": "9bc66da7-9d38-4e41-ffd5-51609972d460"
      },
      "execution_count": null,
      "outputs": [
        {
          "output_type": "stream",
          "name": "stdout",
          "text": [
            "['aa' 'abadia' 'abatucci' ... 'żłobem' 'żłobie' 'żłobu']\n",
            "[[0.         0.         0.         ... 0.         0.         0.        ]\n",
            " [0.00150974 0.         0.         ... 0.         0.         0.        ]\n",
            " [0.00099663 0.         0.         ... 0.         0.         0.        ]\n",
            " ...\n",
            " [0.         0.         0.00190699 ... 0.         0.         0.        ]\n",
            " [0.         0.00438539 0.         ... 0.         0.         0.        ]\n",
            " [0.         0.         0.         ... 0.         0.         0.        ]]\n"
          ]
        }
      ]
    },
    {
      "cell_type": "markdown",
      "source": [
        "Macierz odleglosci cosinusowej"
      ],
      "metadata": {
        "id": "hpfxNZs6p5uu"
      }
    },
    {
      "cell_type": "code",
      "source": [
        "from sklearn.metrics.pairwise import pairwise_distances\n",
        "cosine_distances = pairwise_distances(TFIDF, metric='cosine')\n",
        "print(cosine_distances)\n"
      ],
      "metadata": {
        "colab": {
          "base_uri": "https://localhost:8080/"
        },
        "id": "BHll4jrsYkk9",
        "outputId": "d576e9e7-0cf2-46a3-839d-449b0e951c38"
      },
      "execution_count": null,
      "outputs": [
        {
          "output_type": "stream",
          "name": "stdout",
          "text": [
            "[[0.         0.9355809  0.9291348  0.9760621  0.93169665 0.9760621\n",
            "  0.95152915 0.84186371 0.93538798 0.95881026]\n",
            " [0.9355809  0.         0.80249316 0.98412813 0.92054775 0.98412813\n",
            "  0.93891553 0.79903715 0.93417055 0.95386432]\n",
            " [0.9291348  0.80249316 0.         0.98575495 0.89652228 0.98575495\n",
            "  0.91849619 0.75836851 0.91296447 0.94965871]\n",
            " [0.9760621  0.98412813 0.98575495 0.         0.98894852 0.\n",
            "  0.97410592 0.9765451  0.98212559 0.93767701]\n",
            " [0.93169665 0.92054775 0.89652228 0.98894852 0.         0.98894852\n",
            "  0.9180581  0.80915061 0.7874786  0.94033485]\n",
            " [0.9760621  0.98412813 0.98575495 0.         0.98894852 0.\n",
            "  0.97410592 0.9765451  0.98212559 0.93767701]\n",
            " [0.95152915 0.93891553 0.91849619 0.97410592 0.9180581  0.97410592\n",
            "  0.         0.84762134 0.9038741  0.94888926]\n",
            " [0.84186371 0.79903715 0.75836851 0.9765451  0.80915061 0.9765451\n",
            "  0.84762134 0.         0.81203164 0.89585415]\n",
            " [0.93538798 0.93417055 0.91296447 0.98212559 0.7874786  0.98212559\n",
            "  0.9038741  0.81203164 0.         0.92609678]\n",
            " [0.95881026 0.95386432 0.94965871 0.93767701 0.94033485 0.93767701\n",
            "  0.94888926 0.89585415 0.92609678 0.        ]]\n"
          ]
        }
      ]
    },
    {
      "cell_type": "markdown",
      "source": [
        "Macierz zredukowana do 2 wymiarow"
      ],
      "metadata": {
        "id": "N5jSDb_Up8-I"
      }
    },
    {
      "cell_type": "code",
      "source": [
        "from sklearn.decomposition import TruncatedSVD\n",
        "svd = TruncatedSVD(n_components=2)\n",
        "TFIDF_reduced = svd.fit_transform(TFIDF)\n",
        "print(TFIDF_reduced)"
      ],
      "metadata": {
        "colab": {
          "base_uri": "https://localhost:8080/"
        },
        "id": "VJv_tihFcjJc",
        "outputId": "ddfa34c3-342f-4bb4-fb26-26bf74ec5545"
      },
      "execution_count": null,
      "outputs": [
        {
          "output_type": "stream",
          "name": "stdout",
          "text": [
            "[[ 0.13595649  0.31285415]\n",
            " [ 0.15501649  0.44263397]\n",
            " [ 0.16995769  0.50335603]\n",
            " [ 0.94873619 -0.31179835]\n",
            " [ 0.15786007  0.47589537]\n",
            " [ 0.94873619 -0.31179835]\n",
            " [ 0.1478844   0.34001834]\n",
            " [ 0.23342229  0.64932706]\n",
            " [ 0.16716952  0.46194588]\n",
            " [ 0.18655903  0.21832466]]\n"
          ]
        }
      ]
    },
    {
      "cell_type": "markdown",
      "source": [
        "Wyswietlanie punktow na osi"
      ],
      "metadata": {
        "id": "B_WI-JGoqA5A"
      }
    },
    {
      "cell_type": "code",
      "source": [
        "import matplotlib.colors as mcolors\n",
        "\n",
        "corp = ['Doc1', 'Doc2', 'Doc3', 'Doc4', 'Doc5', 'Doc6', 'Doc7', 'Doc8', 'Doc9', 'Doc10']\n",
        "\n",
        "color_palette = plt.cm.get_cmap('tab10', len(corp))\n",
        "\n",
        "plt.figure(figsize=(8, 6))\n",
        "\n",
        "for i, doc_id in enumerate(corp):\n",
        "    plt.scatter(TFIDF_reduced[i, 0], TFIDF_reduced[i, 1], color=color_palette(i), label=doc_id)\n",
        "\n",
        "plt.legend()\n",
        "plt.show()\n",
        "\n",
        "\n",
        "\n"
      ],
      "metadata": {
        "colab": {
          "base_uri": "https://localhost:8080/",
          "height": 577
        },
        "id": "LxWEzUWIclbc",
        "outputId": "ac88ea48-49e2-4c8e-fc6c-69df9e7b15b6"
      },
      "execution_count": null,
      "outputs": [
        {
          "output_type": "stream",
          "name": "stderr",
          "text": [
            "<ipython-input-96-9bfdd1baeb69>:5: MatplotlibDeprecationWarning: The get_cmap function was deprecated in Matplotlib 3.7 and will be removed two minor releases later. Use ``matplotlib.colormaps[name]`` or ``matplotlib.colormaps.get_cmap(obj)`` instead.\n",
            "  color_palette = plt.cm.get_cmap('tab10', len(corp))\n"
          ]
        },
        {
          "output_type": "display_data",
          "data": {
            "text/plain": [
              "<Figure size 800x600 with 1 Axes>"
            ],
            "image/png": "[encoded data removed]"
          },
          "metadata": {}
        }
      ]
    },
    {
      "cell_type": "code",
      "source": [],
      "metadata": {
        "id": "JXVSlByvfBlM"
      },
      "execution_count": null,
      "outputs": []
    }
  ]
}